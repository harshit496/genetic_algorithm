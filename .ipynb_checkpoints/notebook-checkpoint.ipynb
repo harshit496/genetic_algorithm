{
 "cells": [
  {
   "cell_type": "code",
   "execution_count": 75,
   "metadata": {},
   "outputs": [],
   "source": [
    "import numpy as np\n",
    "import matplotlib.pyplot as plt"
   ]
  },
  {
   "cell_type": "markdown",
   "metadata": {},
   "source": [
    "## Create a population"
   ]
  },
  {
   "cell_type": "code",
   "execution_count": 4,
   "metadata": {},
   "outputs": [],
   "source": [
    "def create_population(no_of_people, no_of_groups, low = 0, high = 100):\n",
    "    population = np.random.randint(low=low, high=high, size = (no_of_groups,no_of_people))\n",
    "    return population "
   ]
  },
  {
   "cell_type": "markdown",
   "metadata": {},
   "source": [
    "## Create a fitness function"
   ]
  },
  {
   "cell_type": "code",
   "execution_count": 7,
   "metadata": {},
   "outputs": [],
   "source": [
    "def fitness(group, target):\n",
    "    '''\n",
    "    We sum the people in the group and subtract it from the target. [Take absolute value]\n",
    "    '''\n",
    "    \n",
    "    summation = np.sum(group)\n",
    "    fitness = abs(target-summation)\n",
    "    return fitness"
   ]
  },
  {
   "cell_type": "markdown",
   "metadata": {},
   "source": [
    "## Create a population fitness function"
   ]
  },
  {
   "cell_type": "code",
   "execution_count": 26,
   "metadata": {},
   "outputs": [],
   "source": [
    "def population_fitness(population, target):\n",
    "    '''\n",
    "    Calculating the fitness for the whole population.\n",
    "    '''\n",
    "    \n",
    "    summation = np.sum(population,axis = 1)\n",
    "    average = np.mean(summation)\n",
    "    fitness = abs(target-average)\n",
    "    return fitness"
   ]
  },
  {
   "cell_type": "markdown",
   "metadata": {},
   "source": [
    "## Mutation step"
   ]
  },
  {
   "cell_type": "code",
   "execution_count": 40,
   "metadata": {},
   "outputs": [],
   "source": [
    "def mutation(population, mutate = 0.1):\n",
    "    for group in population:\n",
    "        if mutate > np.random.rand():\n",
    "            position = np.random.randint(len(group))\n",
    "            group[position] = np.random.randint(np.min(group),np.max(group))\n",
    "    return population"
   ]
  },
  {
   "cell_type": "markdown",
   "metadata": {},
   "source": [
    "## Breeding Step"
   ]
  },
  {
   "cell_type": "code",
   "execution_count": 73,
   "metadata": {},
   "outputs": [],
   "source": [
    "def breeding(parents, total_size):\n",
    "    parents_length = len(parents)\n",
    "    desired_size = total_size - parents_length\n",
    "    children = []\n",
    "    while len(children)<desired_size:\n",
    "        father = np.random.randint(0,parents_length-1)\n",
    "        mother = np.random.randint(0,parents_length-1)\n",
    "        if father!=mother:\n",
    "            father = parents[father]\n",
    "            mother = parents[mother]\n",
    "            half_point = len(father)//2\n",
    "            child = np.concatenate([father[:half_point],mother[half_point:]])\n",
    "            children.append(child)\n",
    "    children = np.array(children)\n",
    "    parents = np.vstack((parents,children))\n",
    "    return parents    "
   ]
  },
  {
   "cell_type": "markdown",
   "metadata": {},
   "source": [
    "## Optimization step"
   ]
  },
  {
   "cell_type": "code",
   "execution_count": 65,
   "metadata": {},
   "outputs": [],
   "source": [
    "def take_first(elem):\n",
    "    return elem[0]\n",
    "\n",
    "def optimize(population, target, retain = 0.2, mutate = 0.1):\n",
    "    graded = [ (fitness(x, target), x) for x in population]\n",
    "    graded = [ x[1] for x in sorted(graded,key=take_first)]\n",
    "    retain_length = int(len(graded)*retain)\n",
    "    parents = graded[:retain_length]\n",
    "    \n",
    "    #mutation step\n",
    "    parents = mutation(parents, mutate)\n",
    "    \n",
    "    #breeding step\n",
    "    parents = breeding(parents, len(population))    \n",
    "    \n",
    "    return np.array(parents)"
   ]
  },
  {
   "cell_type": "code",
   "execution_count": 80,
   "metadata": {},
   "outputs": [
    {
     "data": {
      "text/plain": [
       "Text(0, 0.5, 'Fitness of population')"
      ]
     },
     "execution_count": 80,
     "metadata": {},
     "output_type": "execute_result"
    },
    {
     "data": {
      "image/png": "[encoded data removed]",
      "text/plain": [
       "<Figure size 432x288 with 1 Axes>"
      ]
     },
     "metadata": {
      "needs_background": "light"
     },
     "output_type": "display_data"
    }
   ],
   "source": [
    "target = 371\n",
    "p_count = 100\n",
    "i_length = 6\n",
    "i_min = 0\n",
    "i_max = 100\n",
    "iterations = 100\n",
    "p = create_population(i_length, p_count, i_min, i_max)\n",
    "fitness_history = [population_fitness(p, target),]\n",
    "\n",
    "for i in range(iterations):\n",
    "    p = optimize(p, target)\n",
    "    fitness_history.append(population_fitness(p, target))\n",
    "plt.plot(np.arange(iterations+1),fitness_history)\n",
    "plt.xlabel('No of iterations')\n",
    "plt.ylabel('Fitness of population')"
   ]
  },
  {
   "cell_type": "markdown",
   "metadata": {},
   "source": [
    "### References\n",
    "1. https://lethain.com/genetic-algorithms-cool-name-damn-simple/\n",
    "2. https://blog.coast.ai/lets-evolve-a-neural-network-with-a-genetic-algorithm-code-included-8809bece164\n",
    "3. https://medium.com/cindicator/genetic-algorithms-and-hyperparameters-weekend-of-a-data-scientist-8f069669015e"
   ]
  }
 ],
 "metadata": {
  "kernelspec": {
   "display_name": "Python 3",
   "language": "python",
   "name": "python3"
  },
  "language_info": {
   "codemirror_mode": {
    "name": "ipython",
    "version": 3
   },
   "file_extension": ".py",
   "mimetype": "text/x-python",
   "name": "python",
   "nbconvert_exporter": "python",
   "pygments_lexer": "ipython3",
   "version": "3.7.6"
  }
 },
 "nbformat": 4,
 "nbformat_minor": 4
}
